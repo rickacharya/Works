{
 "cells": [
  {
   "cell_type": "code",
   "execution_count": 1,
   "id": "b12d2814",
   "metadata": {},
   "outputs": [],
   "source": [
    "import pandas as pd\n",
    "import numpy as np\n",
    "import matplotlib.pyplot as plt\n",
    "%matplotlib inline\n",
    "import seaborn as sns\n"
   ]
  },
  {
   "cell_type": "code",
   "execution_count": 2,
   "id": "674926de",
   "metadata": {},
   "outputs": [
    {
     "data": {
      "text/html": [
       "<div>\n",
       "<style scoped>\n",
       "    .dataframe tbody tr th:only-of-type {\n",
       "        vertical-align: middle;\n",
       "    }\n",
       "\n",
       "    .dataframe tbody tr th {\n",
       "        vertical-align: top;\n",
       "    }\n",
       "\n",
       "    .dataframe thead th {\n",
       "        text-align: right;\n",
       "    }\n",
       "</style>\n",
       "<table border=\"1\" class=\"dataframe\">\n",
       "  <thead>\n",
       "    <tr style=\"text-align: right;\">\n",
       "      <th></th>\n",
       "      <th>Conc.(mg/ml)</th>\n",
       "      <th>Type of Milk</th>\n",
       "      <th>Foamability(ml)</th>\n",
       "      <th>Foam height(mm)</th>\n",
       "      <th>RMI 30(ml)</th>\n",
       "      <th>t(s)</th>\n",
       "      <th>Height(mm)</th>\n",
       "      <th>Temperature(°C)</th>\n",
       "      <th>Adulterant</th>\n",
       "    </tr>\n",
       "  </thead>\n",
       "  <tbody>\n",
       "    <tr>\n",
       "      <th>0</th>\n",
       "      <td>0</td>\n",
       "      <td>Fresh</td>\n",
       "      <td>48.30</td>\n",
       "      <td>38.40</td>\n",
       "      <td>44.4</td>\n",
       "      <td>33.00</td>\n",
       "      <td>20.10</td>\n",
       "      <td>26</td>\n",
       "      <td>SDS</td>\n",
       "    </tr>\n",
       "    <tr>\n",
       "      <th>1</th>\n",
       "      <td>0</td>\n",
       "      <td>Fresh</td>\n",
       "      <td>52.50</td>\n",
       "      <td>41.50</td>\n",
       "      <td>50.5</td>\n",
       "      <td>67.80</td>\n",
       "      <td>20.20</td>\n",
       "      <td>26</td>\n",
       "      <td>SDS</td>\n",
       "    </tr>\n",
       "    <tr>\n",
       "      <th>2</th>\n",
       "      <td>0</td>\n",
       "      <td>Fresh</td>\n",
       "      <td>49.70</td>\n",
       "      <td>39.60</td>\n",
       "      <td>25.4</td>\n",
       "      <td>32.80</td>\n",
       "      <td>20.20</td>\n",
       "      <td>26</td>\n",
       "      <td>SDS</td>\n",
       "    </tr>\n",
       "    <tr>\n",
       "      <th>3</th>\n",
       "      <td>0</td>\n",
       "      <td>Fresh</td>\n",
       "      <td>50.17</td>\n",
       "      <td>39.83</td>\n",
       "      <td>40.1</td>\n",
       "      <td>44.53</td>\n",
       "      <td>20.17</td>\n",
       "      <td>26</td>\n",
       "      <td>SDS</td>\n",
       "    </tr>\n",
       "    <tr>\n",
       "      <th>4</th>\n",
       "      <td>10</td>\n",
       "      <td>Fresh</td>\n",
       "      <td>51.60</td>\n",
       "      <td>41.10</td>\n",
       "      <td>49.6</td>\n",
       "      <td>41.10</td>\n",
       "      <td>20.10</td>\n",
       "      <td>26</td>\n",
       "      <td>SDS</td>\n",
       "    </tr>\n",
       "  </tbody>\n",
       "</table>\n",
       "</div>"
      ],
      "text/plain": [
       "   Conc.(mg/ml) Type of Milk  Foamability(ml)  Foam height(mm)  RMI 30(ml)  \\\n",
       "0             0        Fresh            48.30            38.40        44.4   \n",
       "1             0        Fresh            52.50            41.50        50.5   \n",
       "2             0        Fresh            49.70            39.60        25.4   \n",
       "3             0        Fresh            50.17            39.83        40.1   \n",
       "4            10        Fresh            51.60            41.10        49.6   \n",
       "\n",
       "    t(s)  Height(mm)  Temperature(°C) Adulterant  \n",
       "0  33.00       20.10               26        SDS  \n",
       "1  67.80       20.20               26        SDS  \n",
       "2  32.80       20.20               26        SDS  \n",
       "3  44.53       20.17               26        SDS  \n",
       "4  41.10       20.10               26        SDS  "
      ]
     },
     "execution_count": 2,
     "metadata": {},
     "output_type": "execute_result"
    }
   ],
   "source": [
    "df=pd.read_excel('Milk_Data_Complete.xlsx')\n",
    "df.head()\n"
   ]
  },
  {
   "cell_type": "code",
   "execution_count": 3,
   "id": "c67df7f4",
   "metadata": {},
   "outputs": [
    {
     "data": {
      "text/html": [
       "<div>\n",
       "<style scoped>\n",
       "    .dataframe tbody tr th:only-of-type {\n",
       "        vertical-align: middle;\n",
       "    }\n",
       "\n",
       "    .dataframe tbody tr th {\n",
       "        vertical-align: top;\n",
       "    }\n",
       "\n",
       "    .dataframe thead th {\n",
       "        text-align: right;\n",
       "    }\n",
       "</style>\n",
       "<table border=\"1\" class=\"dataframe\">\n",
       "  <thead>\n",
       "    <tr style=\"text-align: right;\">\n",
       "      <th></th>\n",
       "      <th>Conc.(mg/ml)</th>\n",
       "      <th>Type of Milk</th>\n",
       "      <th>Foamability(ml)</th>\n",
       "      <th>Foam height(mm)</th>\n",
       "      <th>RMI 30(ml)</th>\n",
       "      <th>t(s)</th>\n",
       "      <th>Height(mm)</th>\n",
       "      <th>Temperature(°C)</th>\n",
       "      <th>Adulterant</th>\n",
       "    </tr>\n",
       "  </thead>\n",
       "  <tbody>\n",
       "    <tr>\n",
       "      <th>413</th>\n",
       "      <td>70</td>\n",
       "      <td>Raw</td>\n",
       "      <td>39.57</td>\n",
       "      <td>31.5</td>\n",
       "      <td>37.87</td>\n",
       "      <td>73.97</td>\n",
       "      <td>20.13</td>\n",
       "      <td>60</td>\n",
       "      <td>Tween80</td>\n",
       "    </tr>\n",
       "    <tr>\n",
       "      <th>414</th>\n",
       "      <td>150</td>\n",
       "      <td>Raw</td>\n",
       "      <td>42.30</td>\n",
       "      <td>33.7</td>\n",
       "      <td>41.50</td>\n",
       "      <td>615.10</td>\n",
       "      <td>20.20</td>\n",
       "      <td>60</td>\n",
       "      <td>Tween80</td>\n",
       "    </tr>\n",
       "    <tr>\n",
       "      <th>415</th>\n",
       "      <td>150</td>\n",
       "      <td>Raw</td>\n",
       "      <td>45.60</td>\n",
       "      <td>36.3</td>\n",
       "      <td>44.50</td>\n",
       "      <td>95.10</td>\n",
       "      <td>20.30</td>\n",
       "      <td>60</td>\n",
       "      <td>Tween80</td>\n",
       "    </tr>\n",
       "    <tr>\n",
       "      <th>416</th>\n",
       "      <td>150</td>\n",
       "      <td>Raw</td>\n",
       "      <td>41.70</td>\n",
       "      <td>33.2</td>\n",
       "      <td>39.10</td>\n",
       "      <td>67.70</td>\n",
       "      <td>20.10</td>\n",
       "      <td>60</td>\n",
       "      <td>Tween80</td>\n",
       "    </tr>\n",
       "    <tr>\n",
       "      <th>417</th>\n",
       "      <td>150</td>\n",
       "      <td>Raw</td>\n",
       "      <td>43.20</td>\n",
       "      <td>34.4</td>\n",
       "      <td>41.70</td>\n",
       "      <td>259.30</td>\n",
       "      <td>20.20</td>\n",
       "      <td>60</td>\n",
       "      <td>Tween80</td>\n",
       "    </tr>\n",
       "  </tbody>\n",
       "</table>\n",
       "</div>"
      ],
      "text/plain": [
       "     Conc.(mg/ml) Type of Milk  Foamability(ml)  Foam height(mm)  RMI 30(ml)  \\\n",
       "413            70          Raw            39.57             31.5       37.87   \n",
       "414           150          Raw            42.30             33.7       41.50   \n",
       "415           150          Raw            45.60             36.3       44.50   \n",
       "416           150          Raw            41.70             33.2       39.10   \n",
       "417           150          Raw            43.20             34.4       41.70   \n",
       "\n",
       "       t(s)  Height(mm)  Temperature(°C) Adulterant  \n",
       "413   73.97       20.13               60    Tween80  \n",
       "414  615.10       20.20               60    Tween80  \n",
       "415   95.10       20.30               60    Tween80  \n",
       "416   67.70       20.10               60    Tween80  \n",
       "417  259.30       20.20               60    Tween80  "
      ]
     },
     "execution_count": 3,
     "metadata": {},
     "output_type": "execute_result"
    }
   ],
   "source": [
    "df.tail()"
   ]
  },
  {
   "cell_type": "code",
   "execution_count": 4,
   "id": "93e6a0ad",
   "metadata": {},
   "outputs": [
    {
     "name": "stdout",
     "output_type": "stream",
     "text": [
      "<class 'pandas.core.frame.DataFrame'>\n",
      "RangeIndex: 418 entries, 0 to 417\n",
      "Data columns (total 9 columns):\n",
      " #   Column           Non-Null Count  Dtype  \n",
      "---  ------           --------------  -----  \n",
      " 0   Conc.(mg/ml)     418 non-null    int64  \n",
      " 1   Type of Milk     418 non-null    object \n",
      " 2   Foamability(ml)  418 non-null    float64\n",
      " 3   Foam height(mm)  418 non-null    float64\n",
      " 4   RMI 30(ml)       418 non-null    float64\n",
      " 5   t(s)             418 non-null    float64\n",
      " 6   Height(mm)       418 non-null    float64\n",
      " 7   Temperature(°C)  418 non-null    int64  \n",
      " 8   Adulterant       418 non-null    object \n",
      "dtypes: float64(5), int64(2), object(2)\n",
      "memory usage: 29.5+ KB\n"
     ]
    }
   ],
   "source": [
    "df.info()"
   ]
  },
  {
   "cell_type": "code",
   "execution_count": 5,
   "id": "27ece247",
   "metadata": {},
   "outputs": [
    {
     "data": {
      "text/html": [
       "<div>\n",
       "<style scoped>\n",
       "    .dataframe tbody tr th:only-of-type {\n",
       "        vertical-align: middle;\n",
       "    }\n",
       "\n",
       "    .dataframe tbody tr th {\n",
       "        vertical-align: top;\n",
       "    }\n",
       "\n",
       "    .dataframe thead th {\n",
       "        text-align: right;\n",
       "    }\n",
       "</style>\n",
       "<table border=\"1\" class=\"dataframe\">\n",
       "  <thead>\n",
       "    <tr style=\"text-align: right;\">\n",
       "      <th></th>\n",
       "      <th>Conc.(mg/ml)</th>\n",
       "      <th>Foamability(ml)</th>\n",
       "      <th>Foam height(mm)</th>\n",
       "      <th>RMI 30(ml)</th>\n",
       "      <th>t(s)</th>\n",
       "      <th>Height(mm)</th>\n",
       "      <th>Temperature(°C)</th>\n",
       "    </tr>\n",
       "  </thead>\n",
       "  <tbody>\n",
       "    <tr>\n",
       "      <th>count</th>\n",
       "      <td>418.000000</td>\n",
       "      <td>418.000000</td>\n",
       "      <td>418.000000</td>\n",
       "      <td>418.000000</td>\n",
       "      <td>418.000000</td>\n",
       "      <td>418.000000</td>\n",
       "      <td>418.000000</td>\n",
       "    </tr>\n",
       "    <tr>\n",
       "      <th>mean</th>\n",
       "      <td>57.248804</td>\n",
       "      <td>64.430407</td>\n",
       "      <td>51.234282</td>\n",
       "      <td>59.937057</td>\n",
       "      <td>193.149641</td>\n",
       "      <td>20.174187</td>\n",
       "      <td>31.502392</td>\n",
       "    </tr>\n",
       "    <tr>\n",
       "      <th>std</th>\n",
       "      <td>59.778490</td>\n",
       "      <td>29.678573</td>\n",
       "      <td>23.568136</td>\n",
       "      <td>29.573206</td>\n",
       "      <td>215.161841</td>\n",
       "      <td>0.526077</td>\n",
       "      <td>20.680538</td>\n",
       "    </tr>\n",
       "    <tr>\n",
       "      <th>min</th>\n",
       "      <td>0.000000</td>\n",
       "      <td>22.900000</td>\n",
       "      <td>18.200000</td>\n",
       "      <td>22.900000</td>\n",
       "      <td>14.000000</td>\n",
       "      <td>19.100000</td>\n",
       "      <td>10.000000</td>\n",
       "    </tr>\n",
       "    <tr>\n",
       "      <th>25%</th>\n",
       "      <td>2.500000</td>\n",
       "      <td>35.200000</td>\n",
       "      <td>28.000000</td>\n",
       "      <td>31.447500</td>\n",
       "      <td>73.150000</td>\n",
       "      <td>20.100000</td>\n",
       "      <td>10.000000</td>\n",
       "    </tr>\n",
       "    <tr>\n",
       "      <th>50%</th>\n",
       "      <td>10.000000</td>\n",
       "      <td>66.575000</td>\n",
       "      <td>52.975000</td>\n",
       "      <td>57.715000</td>\n",
       "      <td>110.515000</td>\n",
       "      <td>20.130000</td>\n",
       "      <td>26.000000</td>\n",
       "    </tr>\n",
       "    <tr>\n",
       "      <th>75%</th>\n",
       "      <td>70.000000</td>\n",
       "      <td>88.800000</td>\n",
       "      <td>70.650000</td>\n",
       "      <td>86.175000</td>\n",
       "      <td>179.950000</td>\n",
       "      <td>20.200000</td>\n",
       "      <td>60.000000</td>\n",
       "    </tr>\n",
       "    <tr>\n",
       "      <th>max</th>\n",
       "      <td>150.000000</td>\n",
       "      <td>126.100000</td>\n",
       "      <td>100.400000</td>\n",
       "      <td>128.700000</td>\n",
       "      <td>899.200000</td>\n",
       "      <td>30.100000</td>\n",
       "      <td>60.000000</td>\n",
       "    </tr>\n",
       "  </tbody>\n",
       "</table>\n",
       "</div>"
      ],
      "text/plain": [
       "       Conc.(mg/ml)  Foamability(ml)  Foam height(mm)  RMI 30(ml)        t(s)  \\\n",
       "count    418.000000       418.000000       418.000000  418.000000  418.000000   \n",
       "mean      57.248804        64.430407        51.234282   59.937057  193.149641   \n",
       "std       59.778490        29.678573        23.568136   29.573206  215.161841   \n",
       "min        0.000000        22.900000        18.200000   22.900000   14.000000   \n",
       "25%        2.500000        35.200000        28.000000   31.447500   73.150000   \n",
       "50%       10.000000        66.575000        52.975000   57.715000  110.515000   \n",
       "75%       70.000000        88.800000        70.650000   86.175000  179.950000   \n",
       "max      150.000000       126.100000       100.400000  128.700000  899.200000   \n",
       "\n",
       "       Height(mm)  Temperature(°C)  \n",
       "count  418.000000       418.000000  \n",
       "mean    20.174187        31.502392  \n",
       "std      0.526077        20.680538  \n",
       "min     19.100000        10.000000  \n",
       "25%     20.100000        10.000000  \n",
       "50%     20.130000        26.000000  \n",
       "75%     20.200000        60.000000  \n",
       "max     30.100000        60.000000  "
      ]
     },
     "execution_count": 5,
     "metadata": {},
     "output_type": "execute_result"
    }
   ],
   "source": [
    "df.describe()"
   ]
  },
  {
   "cell_type": "code",
   "execution_count": 6,
   "id": "73eaa631",
   "metadata": {},
   "outputs": [
    {
     "data": {
      "text/plain": [
       "Index(['Conc.(mg/ml)', 'Type of Milk', 'Foamability(ml)', 'Foam height(mm)',\n",
       "       'RMI 30(ml)', 't(s)', 'Height(mm)', 'Temperature(°C)', 'Adulterant'],\n",
       "      dtype='object')"
      ]
     },
     "execution_count": 6,
     "metadata": {},
     "output_type": "execute_result"
    }
   ],
   "source": [
    "df.columns\n"
   ]
  },
  {
   "cell_type": "code",
   "execution_count": 7,
   "id": "43dcca2f",
   "metadata": {},
   "outputs": [
    {
     "data": {
      "image/png": "[encoded data removed]",
      "text/plain": [
       "<Figure size 432x288 with 1 Axes>"
      ]
     },
     "metadata": {
      "needs_background": "light"
     },
     "output_type": "display_data"
    },
    {
     "data": {
      "text/plain": [
       "<Figure size 432x576 with 0 Axes>"
      ]
     },
     "metadata": {},
     "output_type": "display_data"
    }
   ],
   "source": [
    "#count of adulterants\n",
    "sns.countplot(x='Adulterant',data=df)\n",
    "plt.title('Count of adulterants')\n",
    "plt.figure(figsize=(6,8))\n",
    "plt.show()"
   ]
  },
  {
   "cell_type": "code",
   "execution_count": 8,
   "id": "abd3198c",
   "metadata": {},
   "outputs": [
    {
     "name": "stderr",
     "output_type": "stream",
     "text": [
      "<ipython-input-8-c0ca4decefb6>:5: DeprecationWarning: `np.bool` is a deprecated alias for the builtin `bool`. To silence this warning, use `bool` by itself. Doing this will not modify any behavior and is safe. If you specifically wanted the numpy scalar type, use `np.bool_` here.\n",
      "Deprecated in NumPy 1.20; for more details and guidance: https://numpy.org/devdocs/release/1.20.0-notes.html#deprecations\n",
      "  sns.heatmap(corr,mask=np.zeros_like(corr,dtype=np.bool),cmap=sns.diverging_palette(220,10,as_cmap=True),square=True,ax=ax)\n"
     ]
    },
    {
     "data": {
      "image/png": "[encoded data removed]",
      "text/plain": [
       "<Figure size 576x720 with 2 Axes>"
      ]
     },
     "metadata": {
      "needs_background": "light"
     },
     "output_type": "display_data"
    }
   ],
   "source": [
    "#correlation between features\n",
    "corr=df.corr(method='pearson')\n",
    "f,ax=plt.subplots(figsize=(8,10))\n",
    "plt.title('correlation between features')\n",
    "sns.heatmap(corr,mask=np.zeros_like(corr,dtype=np.bool),cmap=sns.diverging_palette(220,10,as_cmap=True),square=True,ax=ax)\n",
    "plt.show()\n"
   ]
  },
  {
   "cell_type": "code",
   "execution_count": 9,
   "id": "a370641a",
   "metadata": {},
   "outputs": [],
   "source": [
    "#Checking whether there are outliers using boxplots\n"
   ]
  },
  {
   "cell_type": "code",
   "execution_count": 10,
   "id": "c148cdc0",
   "metadata": {},
   "outputs": [
    {
     "data": {
      "text/plain": [
       "<AxesSubplot:xlabel='Adulterant', ylabel='Foamability(ml)'>"
      ]
     },
     "execution_count": 10,
     "metadata": {},
     "output_type": "execute_result"
    },
    {
     "data": {
      "image/png": "[encoded data removed]",
      "text/plain": [
       "<Figure size 432x288 with 1 Axes>"
      ]
     },
     "metadata": {
      "needs_background": "light"
     },
     "output_type": "display_data"
    }
   ],
   "source": [
    "#foamability\n",
    "sns.boxplot(x='Adulterant',y='Foamability(ml)',data=df)\n"
   ]
  },
  {
   "cell_type": "code",
   "execution_count": 11,
   "id": "a0aed206",
   "metadata": {},
   "outputs": [
    {
     "data": {
      "text/plain": [
       "<AxesSubplot:xlabel='Adulterant', ylabel='Foam height(mm)'>"
      ]
     },
     "execution_count": 11,
     "metadata": {},
     "output_type": "execute_result"
    },
    {
     "data": {
      "image/png": "[encoded data removed]",
      "text/plain": [
       "<Figure size 432x288 with 1 Axes>"
      ]
     },
     "metadata": {
      "needs_background": "light"
     },
     "output_type": "display_data"
    }
   ],
   "source": [
    "#foam height\n",
    "sns.boxplot(x='Adulterant',y='Foam height(mm)',data=df)\n"
   ]
  },
  {
   "cell_type": "code",
   "execution_count": 12,
   "id": "37252759",
   "metadata": {},
   "outputs": [
    {
     "data": {
      "text/plain": [
       "<AxesSubplot:xlabel='Adulterant', ylabel='RMI 30(ml)'>"
      ]
     },
     "execution_count": 12,
     "metadata": {},
     "output_type": "execute_result"
    },
    {
     "data": {
      "image/png": "[encoded data removed]",
      "text/plain": [
       "<Figure size 432x288 with 1 Axes>"
      ]
     },
     "metadata": {
      "needs_background": "light"
     },
     "output_type": "display_data"
    }
   ],
   "source": [
    "#foam stability\n",
    "sns.boxplot(x='Adulterant',y='RMI 30(ml)',data=df)"
   ]
  },
  {
   "cell_type": "code",
   "execution_count": 13,
   "id": "cffa3200",
   "metadata": {},
   "outputs": [
    {
     "data": {
      "text/plain": [
       "<AxesSubplot:xlabel='Adulterant', ylabel='t(s)'>"
      ]
     },
     "execution_count": 13,
     "metadata": {},
     "output_type": "execute_result"
    },
    {
     "data": {
      "image/png": "[encoded data removed]",
      "text/plain": [
       "<Figure size 432x288 with 1 Axes>"
      ]
     },
     "metadata": {
      "needs_background": "light"
     },
     "output_type": "display_data"
    }
   ],
   "source": [
    "#t(s)\n",
    "sns.boxplot(x='Adulterant',y='t(s)',data=df)"
   ]
  },
  {
   "cell_type": "code",
   "execution_count": 14,
   "id": "c06cfc00",
   "metadata": {},
   "outputs": [
    {
     "data": {
      "text/plain": [
       "<AxesSubplot:xlabel='Adulterant', ylabel='Height(mm)'>"
      ]
     },
     "execution_count": 14,
     "metadata": {},
     "output_type": "execute_result"
    },
    {
     "data": {
      "image/png": "[encoded data removed]",
      "text/plain": [
       "<Figure size 432x288 with 1 Axes>"
      ]
     },
     "metadata": {
      "needs_background": "light"
     },
     "output_type": "display_data"
    }
   ],
   "source": [
    "#height\n",
    "sns.boxplot(x='Adulterant',y='Height(mm)',data=df)"
   ]
  },
  {
   "cell_type": "code",
   "execution_count": 15,
   "id": "c6967ad8",
   "metadata": {},
   "outputs": [],
   "source": [
    "#replacing the categorical feature 'type of milk' using dummy variables\n",
    "df=pd.get_dummies(df,columns=['Type of Milk'])\n"
   ]
  },
  {
   "cell_type": "code",
   "execution_count": 16,
   "id": "fe83e7f2",
   "metadata": {},
   "outputs": [
    {
     "data": {
      "text/html": [
       "<div>\n",
       "<style scoped>\n",
       "    .dataframe tbody tr th:only-of-type {\n",
       "        vertical-align: middle;\n",
       "    }\n",
       "\n",
       "    .dataframe tbody tr th {\n",
       "        vertical-align: top;\n",
       "    }\n",
       "\n",
       "    .dataframe thead th {\n",
       "        text-align: right;\n",
       "    }\n",
       "</style>\n",
       "<table border=\"1\" class=\"dataframe\">\n",
       "  <thead>\n",
       "    <tr style=\"text-align: right;\">\n",
       "      <th></th>\n",
       "      <th>Conc.(mg/ml)</th>\n",
       "      <th>Foamability(ml)</th>\n",
       "      <th>Foam height(mm)</th>\n",
       "      <th>RMI 30(ml)</th>\n",
       "      <th>t(s)</th>\n",
       "      <th>Height(mm)</th>\n",
       "      <th>Temperature(°C)</th>\n",
       "      <th>Type of Milk_Fresh</th>\n",
       "      <th>Type of Milk_Raw</th>\n",
       "      <th>Type of Milk_Toned</th>\n",
       "    </tr>\n",
       "  </thead>\n",
       "  <tbody>\n",
       "    <tr>\n",
       "      <th>0</th>\n",
       "      <td>0</td>\n",
       "      <td>48.30</td>\n",
       "      <td>38.40</td>\n",
       "      <td>44.4</td>\n",
       "      <td>33.00</td>\n",
       "      <td>20.10</td>\n",
       "      <td>26</td>\n",
       "      <td>1</td>\n",
       "      <td>0</td>\n",
       "      <td>0</td>\n",
       "    </tr>\n",
       "    <tr>\n",
       "      <th>1</th>\n",
       "      <td>0</td>\n",
       "      <td>52.50</td>\n",
       "      <td>41.50</td>\n",
       "      <td>50.5</td>\n",
       "      <td>67.80</td>\n",
       "      <td>20.20</td>\n",
       "      <td>26</td>\n",
       "      <td>1</td>\n",
       "      <td>0</td>\n",
       "      <td>0</td>\n",
       "    </tr>\n",
       "    <tr>\n",
       "      <th>2</th>\n",
       "      <td>0</td>\n",
       "      <td>49.70</td>\n",
       "      <td>39.60</td>\n",
       "      <td>25.4</td>\n",
       "      <td>32.80</td>\n",
       "      <td>20.20</td>\n",
       "      <td>26</td>\n",
       "      <td>1</td>\n",
       "      <td>0</td>\n",
       "      <td>0</td>\n",
       "    </tr>\n",
       "    <tr>\n",
       "      <th>3</th>\n",
       "      <td>0</td>\n",
       "      <td>50.17</td>\n",
       "      <td>39.83</td>\n",
       "      <td>40.1</td>\n",
       "      <td>44.53</td>\n",
       "      <td>20.17</td>\n",
       "      <td>26</td>\n",
       "      <td>1</td>\n",
       "      <td>0</td>\n",
       "      <td>0</td>\n",
       "    </tr>\n",
       "    <tr>\n",
       "      <th>4</th>\n",
       "      <td>10</td>\n",
       "      <td>51.60</td>\n",
       "      <td>41.10</td>\n",
       "      <td>49.6</td>\n",
       "      <td>41.10</td>\n",
       "      <td>20.10</td>\n",
       "      <td>26</td>\n",
       "      <td>1</td>\n",
       "      <td>0</td>\n",
       "      <td>0</td>\n",
       "    </tr>\n",
       "  </tbody>\n",
       "</table>\n",
       "</div>"
      ],
      "text/plain": [
       "   Conc.(mg/ml)  Foamability(ml)  Foam height(mm)  RMI 30(ml)   t(s)  \\\n",
       "0             0            48.30            38.40        44.4  33.00   \n",
       "1             0            52.50            41.50        50.5  67.80   \n",
       "2             0            49.70            39.60        25.4  32.80   \n",
       "3             0            50.17            39.83        40.1  44.53   \n",
       "4            10            51.60            41.10        49.6  41.10   \n",
       "\n",
       "   Height(mm)  Temperature(°C)  Type of Milk_Fresh  Type of Milk_Raw  \\\n",
       "0       20.10               26                   1                 0   \n",
       "1       20.20               26                   1                 0   \n",
       "2       20.20               26                   1                 0   \n",
       "3       20.17               26                   1                 0   \n",
       "4       20.10               26                   1                 0   \n",
       "\n",
       "   Type of Milk_Toned  \n",
       "0                   0  \n",
       "1                   0  \n",
       "2                   0  \n",
       "3                   0  \n",
       "4                   0  "
      ]
     },
     "execution_count": 16,
     "metadata": {},
     "output_type": "execute_result"
    }
   ],
   "source": [
    "#create a copy of the data to work with\n",
    "new_data=df.copy()\n",
    "#independent features\n",
    "X=new_data.drop('Adulterant',axis=1)\n",
    "#dependent feature\n",
    "y=new_data['Adulterant']\n",
    "X.head()"
   ]
  },
  {
   "cell_type": "code",
   "execution_count": 17,
   "id": "fb2ba527",
   "metadata": {},
   "outputs": [
    {
     "data": {
      "text/plain": [
       "0     SDS\n",
       "1     SDS\n",
       "2     SDS\n",
       "3     SDS\n",
       "4     SDS\n",
       "5     SDS\n",
       "6     SDS\n",
       "7     SDS\n",
       "8     SDS\n",
       "9     SDS\n",
       "10    SDS\n",
       "11    SDS\n",
       "12    SDS\n",
       "13    SDS\n",
       "14    SDS\n",
       "15    SDS\n",
       "16    SDS\n",
       "17    SDS\n",
       "18    SDS\n",
       "19    SDS\n",
       "Name: Adulterant, dtype: object"
      ]
     },
     "execution_count": 17,
     "metadata": {},
     "output_type": "execute_result"
    }
   ],
   "source": [
    "y[:20]"
   ]
  },
  {
   "cell_type": "code",
   "execution_count": 18,
   "id": "81a42f0b",
   "metadata": {},
   "outputs": [
    {
     "data": {
      "text/plain": [
       "array([1, 1, 1, 1, 1, 1, 1, 1, 1, 1, 1, 1, 1, 1, 1, 1, 1, 1, 1, 1, 1, 1,\n",
       "       1, 1, 1, 1, 1, 1, 1, 1, 1, 1, 1, 1, 1, 1, 1, 1, 1, 1, 1, 1, 1, 1,\n",
       "       1, 1, 1, 1, 1, 1, 1, 1, 1, 1, 1, 1, 1, 1, 1, 1, 1, 1, 1, 1, 1, 1,\n",
       "       1, 1, 1, 1, 1, 1, 1, 1, 1, 1, 1, 1, 1, 1, 1, 1, 1, 1, 1, 1, 1, 1,\n",
       "       1, 1, 1, 1, 1, 1, 1, 1, 1, 1, 1, 1, 1, 1, 1, 1, 1, 1, 1, 1, 1, 1,\n",
       "       1, 1, 1, 1, 1, 1, 1, 1, 1, 1, 1, 1, 1, 1, 1, 1, 1, 1, 1, 1, 1, 1,\n",
       "       1, 1, 1, 1, 1, 1, 0, 0, 0, 0, 0, 0, 0, 0, 0, 0, 0, 0, 0, 0, 0, 0,\n",
       "       0, 0, 0, 0, 0, 0, 0, 0, 0, 0, 0, 0, 0, 0, 0, 0, 0, 0, 0, 0, 0, 0,\n",
       "       0, 0, 0, 0, 0, 0, 0, 0, 0, 0, 0, 0, 0, 0, 0, 0, 0, 0, 0, 0, 0, 0,\n",
       "       0, 0, 0, 0, 0, 0, 0, 0, 0, 0, 0, 0, 0, 0, 0, 0, 0, 0, 0, 0, 0, 0,\n",
       "       0, 0, 0, 0, 0, 0, 0, 0, 0, 0, 0, 0, 0, 0, 0, 0, 0, 0, 0, 0, 0, 0,\n",
       "       0, 0, 0, 0, 0, 0, 0, 0, 0, 0, 0, 0, 0, 0, 0, 0, 0, 0, 0, 0, 0, 0,\n",
       "       0, 0, 0, 0, 0, 0, 0, 0, 0, 0, 2, 2, 2, 2, 2, 2, 2, 2, 2, 2, 2, 2,\n",
       "       2, 2, 2, 2, 2, 2, 2, 2, 2, 2, 2, 2, 2, 2, 2, 2, 2, 2, 2, 2, 2, 2,\n",
       "       2, 2, 2, 2, 2, 2, 2, 2, 2, 2, 2, 2, 2, 2, 2, 2, 2, 2, 2, 2, 2, 2,\n",
       "       2, 2, 2, 2, 2, 2, 2, 2, 2, 2, 2, 2, 2, 2, 2, 2, 2, 2, 2, 2, 2, 2,\n",
       "       2, 2, 2, 2, 2, 2, 2, 2, 2, 2, 2, 2, 2, 2, 2, 2, 2, 2, 2, 2, 2, 2,\n",
       "       2, 2, 2, 2, 2, 2, 2, 2, 2, 2, 2, 2, 2, 2, 2, 2, 2, 2, 2, 2, 2, 2,\n",
       "       2, 2, 2, 2, 2, 2, 2, 2, 2, 2, 2, 2, 2, 2, 2, 2, 2, 2, 2, 2, 2, 2])"
      ]
     },
     "execution_count": 18,
     "metadata": {},
     "output_type": "execute_result"
    }
   ],
   "source": [
    "#replacing categorical y with label encoder\n",
    "from sklearn.preprocessing import LabelEncoder\n",
    "le=LabelEncoder()\n",
    "le.fit(y)\n",
    "y=le.transform(y)\n",
    "y"
   ]
  },
  {
   "cell_type": "code",
   "execution_count": 74,
   "id": "aa8fe036",
   "metadata": {},
   "outputs": [],
   "source": [
    "from sklearn.preprocessing import label_binarize\n",
    "y=label_binarize(y,classes=[0,1,2])\n",
    "n_classes=y.shape[1]"
   ]
  },
  {
   "cell_type": "code",
   "execution_count": 76,
   "id": "cf537332",
   "metadata": {},
   "outputs": [],
   "source": [
    "#splitting training and test data\n",
    "from sklearn.model_selection import train_test_split \n",
    "X_train,X_test,y_train,y_test=train_test_split(X,y,test_size=0.20,random_state=42)\n"
   ]
  },
  {
   "cell_type": "code",
   "execution_count": 77,
   "id": "44244ab6",
   "metadata": {},
   "outputs": [],
   "source": [
    "#importing Random Forest\n",
    "from sklearn.ensemble import RandomForestClassifier\n",
    "\n",
    "\n"
   ]
  },
  {
   "cell_type": "code",
   "execution_count": 81,
   "id": "7075341f",
   "metadata": {},
   "outputs": [],
   "source": [
    "#applying GridSearchCV for hyperparameter tuning\n",
    "from sklearn.model_selection import GridSearchCV\n",
    "param_grid={\n",
    "    'n_estimators':[10,50,100],\n",
    "    'max_depth':[100,150,200],\n",
    "    'bootstrap':[True],\n",
    "    'max_features':[2,3]\n",
    "}\n",
    "rf_2=RandomForestClassifier()\n",
    "#Instantiating the grid search model\n",
    "grid_search=GridSearchCV(estimator=rf_2,param_grid=param_grid,cv=5,n_jobs=-1,verbose=2)\n"
   ]
  },
  {
   "cell_type": "code",
   "execution_count": 82,
   "id": "72cd799b",
   "metadata": {},
   "outputs": [
    {
     "name": "stdout",
     "output_type": "stream",
     "text": [
      "Fitting 5 folds for each of 18 candidates, totalling 90 fits\n"
     ]
    },
    {
     "data": {
      "text/plain": [
       "{'bootstrap': True, 'max_depth': 150, 'max_features': 2, 'n_estimators': 100}"
      ]
     },
     "execution_count": 82,
     "metadata": {},
     "output_type": "execute_result"
    }
   ],
   "source": [
    "#fitting the grid search to the data and finding out the best parameters\n",
    "grid_search.fit(X_train,y_train)\n",
    "grid_search.best_params_"
   ]
  },
  {
   "cell_type": "code",
   "execution_count": 91,
   "id": "e740e4af",
   "metadata": {},
   "outputs": [],
   "source": [
    "#importing other required libraries\n",
    "from sklearn.linear_model import LogisticRegression\n",
    "from sklearn import svm\n",
    "from sklearn.naive_bayes import GaussianNB\n",
    "from sklearn.metrics import roc_curve,auc\n",
    "from sklearn.model_selection import GridSearchCV\n",
    "from sklearn.multiclass import OneVsRestClassifier\n",
    "from scipy import interp\n",
    "\n",
    "\n",
    "\n",
    "\n"
   ]
  },
  {
   "cell_type": "code",
   "execution_count": 90,
   "id": "0752d9a1",
   "metadata": {},
   "outputs": [
    {
     "name": "stderr",
     "output_type": "stream",
     "text": [
      "C:\\ProgramData\\Anaconda3\\lib\\site-packages\\sklearn\\linear_model\\_logistic.py:763: ConvergenceWarning: lbfgs failed to converge (status=1):\n",
      "STOP: TOTAL NO. of ITERATIONS REACHED LIMIT.\n",
      "\n",
      "Increase the number of iterations (max_iter) or scale the data as shown in:\n",
      "    https://scikit-learn.org/stable/modules/preprocessing.html\n",
      "Please also refer to the documentation for alternative solver options:\n",
      "    https://scikit-learn.org/stable/modules/linear_model.html#logistic-regression\n",
      "  n_iter_i = _check_optimize_result(\n",
      "C:\\ProgramData\\Anaconda3\\lib\\site-packages\\sklearn\\linear_model\\_logistic.py:763: ConvergenceWarning: lbfgs failed to converge (status=1):\n",
      "STOP: TOTAL NO. of ITERATIONS REACHED LIMIT.\n",
      "\n",
      "Increase the number of iterations (max_iter) or scale the data as shown in:\n",
      "    https://scikit-learn.org/stable/modules/preprocessing.html\n",
      "Please also refer to the documentation for alternative solver options:\n",
      "    https://scikit-learn.org/stable/modules/linear_model.html#logistic-regression\n",
      "  n_iter_i = _check_optimize_result(\n",
      "C:\\ProgramData\\Anaconda3\\lib\\site-packages\\sklearn\\linear_model\\_logistic.py:763: ConvergenceWarning: lbfgs failed to converge (status=1):\n",
      "STOP: TOTAL NO. of ITERATIONS REACHED LIMIT.\n",
      "\n",
      "Increase the number of iterations (max_iter) or scale the data as shown in:\n",
      "    https://scikit-learn.org/stable/modules/preprocessing.html\n",
      "Please also refer to the documentation for alternative solver options:\n",
      "    https://scikit-learn.org/stable/modules/linear_model.html#logistic-regression\n",
      "  n_iter_i = _check_optimize_result(\n"
     ]
    }
   ],
   "source": [
    "classifier1=OneVsRestClassifier(LogisticRegression(C=10,penalty='l2',solver='lbfgs'))\n",
    "y_score1=classifier1.fit(X_train,y_train).decision_function(X_test)"
   ]
  },
  {
   "cell_type": "code",
   "execution_count": 95,
   "id": "c43ca073",
   "metadata": {},
   "outputs": [],
   "source": [
    "#compute roc-auc for each class\n",
    "fpr = dict()\n",
    "tpr = dict()\n",
    "roc_auc = dict()\n",
    "for i in range(n_classes):\n",
    "    fpr[i], tpr[i], _ = roc_curve(y_test[:, i], y_score1[:, i])\n",
    "    roc_auc[i] = auc(fpr[i], tpr[i])"
   ]
  },
  {
   "cell_type": "code",
   "execution_count": 99,
   "id": "2b3828f7",
   "metadata": {},
   "outputs": [
    {
     "name": "stderr",
     "output_type": "stream",
     "text": [
      "<ipython-input-99-956df2006f5b>:5: DeprecationWarning: scipy.interp is deprecated and will be removed in SciPy 2.0.0, use numpy.interp instead\n",
      "  mean_tpr+=interp(all_fpr, fpr[i], tpr[i])\n"
     ]
    },
    {
     "data": {
      "image/png": "[encoded data removed]",
      "text/plain": [
       "<Figure size 432x288 with 1 Axes>"
      ]
     },
     "metadata": {
      "needs_background": "light"
     },
     "output_type": "display_data"
    }
   ],
   "source": [
    "import itertools\n",
    "all_fpr=np.unique(np.concatenate([fpr[i] for i in range(n_classes)]))\n",
    "mean_tpr=np.zeros_like(all_fpr)\n",
    "for i in range(n_classes):\n",
    "    mean_tpr+=interp(all_fpr, fpr[i], tpr[i])\n",
    "#avg and compute AUC\n",
    "mean_tpr/=n_classes\n",
    "#plot all classes\n",
    "colors = itertools.cycle(['aqua', 'red', 'blue'])\n",
    "for i, color in zip(range(n_classes), colors):\n",
    "    plt.plot(fpr[i], tpr[i], color=color, lw=2,\n",
    "             label='ROC curve of class {0} (area = {1:0.2f})'\n",
    "             ''.format(i, roc_auc[i]))\n",
    "\n",
    "plt.plot([0, 1], [0, 1], 'k--', lw=2)\n",
    "plt.xlim([0.0, 1.0])\n",
    "plt.ylim([0.0, 1.05])\n",
    "plt.xlabel('False Positive Rate')\n",
    "plt.ylabel('True Positive Rate')\n",
    "plt.title('ROC of Logistic Regression for Multi-class')\n",
    "plt.legend(loc=\"lower right\")\n",
    "plt.show()\n",
    "\n"
   ]
  },
  {
   "cell_type": "code",
   "execution_count": 102,
   "id": "45abe447",
   "metadata": {},
   "outputs": [],
   "source": [
    "classifier2=OneVsRestClassifier(svm.SVC(C=10,kernel='rbf',gamma='scale',probability=True))\n",
    "y_score2=classifier2.fit(X_train,y_train).decision_function(X_test)\n"
   ]
  },
  {
   "cell_type": "code",
   "execution_count": 103,
   "id": "fe5f8582",
   "metadata": {},
   "outputs": [],
   "source": [
    "#compute roc-auc for each class\n",
    "fpr = dict()\n",
    "tpr = dict()\n",
    "roc_auc = dict()\n",
    "for i in range(n_classes):\n",
    "    fpr[i], tpr[i], _ = roc_curve(y_test[:, i], y_score2[:, i])\n",
    "    roc_auc[i] = auc(fpr[i], tpr[i])\n"
   ]
  },
  {
   "cell_type": "code",
   "execution_count": 105,
   "id": "c2e5bb49",
   "metadata": {},
   "outputs": [
    {
     "name": "stderr",
     "output_type": "stream",
     "text": [
      "<ipython-input-105-c55bf35e9375>:5: DeprecationWarning: scipy.interp is deprecated and will be removed in SciPy 2.0.0, use numpy.interp instead\n",
      "  mean_tpr+=interp(all_fpr, fpr[i], tpr[i])\n"
     ]
    },
    {
     "data": {
      "image/png": "[encoded data removed]",
      "text/plain": [
       "<Figure size 432x288 with 1 Axes>"
      ]
     },
     "metadata": {
      "needs_background": "light"
     },
     "output_type": "display_data"
    }
   ],
   "source": [
    "#plot multiclass curve\n",
    "all_fpr=np.unique(np.concatenate([fpr[i] for i in range(n_classes)]))\n",
    "mean_tpr=np.zeros_like(all_fpr)\n",
    "for i in range(n_classes):\n",
    "    mean_tpr+=interp(all_fpr, fpr[i], tpr[i])\n",
    "#avg and compute AUC\n",
    "mean_tpr/=n_classes\n",
    "#plot all classes\n",
    "colors = itertools.cycle(['aqua', 'red', 'blue'])\n",
    "for i, color in zip(range(n_classes), colors):\n",
    "    plt.plot(fpr[i], tpr[i], color=color, lw=2,\n",
    "             label='ROC curve of class {0} (area = {1:0.2f})'\n",
    "             ''.format(i, roc_auc[i]))\n",
    "\n",
    "plt.plot([0, 1], [0, 1], 'k--', lw=2)\n",
    "plt.xlim([0.0, 1.0])\n",
    "plt.ylim([0.0, 1.05])\n",
    "plt.xlabel('False Positive Rate')\n",
    "plt.ylabel('True Positive Rate')\n",
    "plt.title('ROC of SVM for Multi-class')\n",
    "plt.legend(loc=\"lower right\")\n",
    "plt.show()\n"
   ]
  },
  {
   "cell_type": "code",
   "execution_count": 120,
   "id": "543d8371",
   "metadata": {},
   "outputs": [],
   "source": [
    "classifier3=OneVsRestClassifier(GaussianNB())\n",
    "y_score3=classifier3.fit(X_train,y_train).predict_proba(X_test)\n"
   ]
  },
  {
   "cell_type": "code",
   "execution_count": 121,
   "id": "4355cede",
   "metadata": {},
   "outputs": [],
   "source": [
    "#compute roc-auc for each class\n",
    "fpr = dict()\n",
    "tpr = dict()\n",
    "roc_auc = dict()\n",
    "for i in range(n_classes):\n",
    "    fpr[i], tpr[i], _ = roc_curve(y_test[:, i], y_score3[:, i])\n",
    "    roc_auc[i] = auc(fpr[i], tpr[i])\n"
   ]
  },
  {
   "cell_type": "code",
   "execution_count": 123,
   "id": "ff2c0992",
   "metadata": {},
   "outputs": [
    {
     "name": "stderr",
     "output_type": "stream",
     "text": [
      "<ipython-input-123-014114c2a858>:5: DeprecationWarning: scipy.interp is deprecated and will be removed in SciPy 2.0.0, use numpy.interp instead\n",
      "  mean_tpr+=interp(all_fpr, fpr[i], tpr[i])\n"
     ]
    },
    {
     "data": {
      "image/png": "[encoded data removed]",
      "text/plain": [
       "<Figure size 432x288 with 1 Axes>"
      ]
     },
     "metadata": {
      "needs_background": "light"
     },
     "output_type": "display_data"
    }
   ],
   "source": [
    "#plot multiclass curve\n",
    "all_fpr=np.unique(np.concatenate([fpr[i] for i in range(n_classes)]))\n",
    "mean_tpr=np.zeros_like(all_fpr)\n",
    "for i in range(n_classes):\n",
    "    mean_tpr+=interp(all_fpr, fpr[i], tpr[i])\n",
    "#avg and compute AUC\n",
    "mean_tpr/=n_classes\n",
    "#plot all classes\n",
    "colors = itertools.cycle(['aqua', 'red', 'blue'])\n",
    "for i, color in zip(range(n_classes), colors):\n",
    "    plt.plot(fpr[i], tpr[i], color=color, lw=2,\n",
    "             label='ROC curve of class {0} (area = {1:0.2f})'\n",
    "             ''.format(i, roc_auc[i]))\n",
    "\n",
    "plt.plot([0, 1], [0, 1], 'k--', lw=2)\n",
    "plt.xlim([0.0, 1.0])\n",
    "plt.ylim([0.0, 1.05])\n",
    "plt.xlabel('False Positive Rate')\n",
    "plt.ylabel('True Positive Rate')\n",
    "plt.title('ROC of GaussianNB for Multi-class')\n",
    "plt.legend(loc=\"lower right\")\n",
    "plt.show()"
   ]
  },
  {
   "cell_type": "code",
   "execution_count": 125,
   "id": "f1eabaea",
   "metadata": {},
   "outputs": [],
   "source": [
    "classifier4=OneVsRestClassifier(RandomForestClassifier(random_state=42,max_depth=150,n_estimators=100,max_features=2,bootstrap=True))\n",
    "y_score4=classifier4.fit(X_train,y_train).predict_proba(X_test)\n"
   ]
  },
  {
   "cell_type": "code",
   "execution_count": 128,
   "id": "a677cd39",
   "metadata": {},
   "outputs": [],
   "source": [
    "#compute roc-auc for each class\n",
    "fpr = dict()\n",
    "tpr = dict()\n",
    "roc_auc = dict()\n",
    "for i in range(n_classes):\n",
    "    fpr[i], tpr[i], _ = roc_curve(y_test[:, i], y_score4[:, i])\n",
    "    roc_auc[i] = auc(fpr[i], tpr[i])\n"
   ]
  },
  {
   "cell_type": "code",
   "execution_count": 129,
   "id": "951df1f6",
   "metadata": {},
   "outputs": [
    {
     "name": "stderr",
     "output_type": "stream",
     "text": [
      "<ipython-input-129-10fd3243e446>:5: DeprecationWarning: scipy.interp is deprecated and will be removed in SciPy 2.0.0, use numpy.interp instead\n",
      "  mean_tpr+=interp(all_fpr, fpr[i], tpr[i])\n"
     ]
    },
    {
     "data": {
      "image/png": "[encoded data removed]",
      "text/plain": [
       "<Figure size 432x288 with 1 Axes>"
      ]
     },
     "metadata": {
      "needs_background": "light"
     },
     "output_type": "display_data"
    }
   ],
   "source": [
    "#plot multiclass curve\n",
    "all_fpr=np.unique(np.concatenate([fpr[i] for i in range(n_classes)]))\n",
    "mean_tpr=np.zeros_like(all_fpr)\n",
    "for i in range(n_classes):\n",
    "    mean_tpr+=interp(all_fpr, fpr[i], tpr[i])\n",
    "#avg and compute AUC\n",
    "mean_tpr/=n_classes\n",
    "#plot all classes\n",
    "colors = itertools.cycle(['aqua', 'red', 'blue'])\n",
    "for i, color in zip(range(n_classes), colors):\n",
    "    plt.plot(fpr[i], tpr[i], color=color, lw=2,\n",
    "             label='ROC curve of class {0} (area = {1:0.2f})'\n",
    "             ''.format(i, roc_auc[i]))\n",
    "\n",
    "plt.plot([0, 1], [0, 1], 'k--', lw=2)\n",
    "plt.xlim([0.0, 1.0])\n",
    "plt.ylim([0.0, 1.05])\n",
    "plt.xlabel('False Positive Rate')\n",
    "plt.ylabel('True Positive Rate')\n",
    "plt.title('ROC of Random Forest for Multi-class')\n",
    "plt.legend(loc=\"lower right\")\n",
    "plt.show()"
   ]
  },
  {
   "cell_type": "code",
   "execution_count": null,
   "id": "dde3c7c9",
   "metadata": {},
   "outputs": [],
   "source": []
  }
 ],
 "metadata": {
  "kernelspec": {
   "display_name": "Python 3",
   "language": "python",
   "name": "python3"
  },
  "language_info": {
   "codemirror_mode": {
    "name": "ipython",
    "version": 3
   },
   "file_extension": ".py",
   "mimetype": "text/x-python",
   "name": "python",
   "nbconvert_exporter": "python",
   "pygments_lexer": "ipython3",
   "version": "3.8.8"
  }
 },
 "nbformat": 4,
 "nbformat_minor": 5
}
